{
 "cells": [
  {
   "cell_type": "code",
   "execution_count": 1,
   "id": "485f7342-27a7-4b1a-b0be-de4451be0794",
   "metadata": {},
   "outputs": [
    {
     "name": "stdout",
     "output_type": "stream",
     "text": [
      "Hello World From Python\n"
     ]
    }
   ],
   "source": [
    "def capitalize_words(sentence):\n",
    "    result = \"\"\n",
    "    words = sentence.split()\n",
    "    for word in words:\n",
    "        if len(word) > 0:\n",
    "            first = chr(ord(word[0]) - 32) if 'a' <= word[0] <= 'z' else word[0]\n",
    "            rest = ''.join(chr(ord(c) + 32) if 'A' <= c <= 'Z' else c for c in word[1:])\n",
    "            result += first + rest + \" \"\n",
    "    return result.strip()\n",
    "\n",
    "print(capitalize_words(\"hello world from python\"))\n"
   ]
  },
  {
   "cell_type": "code",
   "execution_count": 2,
   "id": "1f485d2b-6d4d-43d6-b173-5311a443b6d2",
   "metadata": {},
   "outputs": [
    {
     "name": "stdout",
     "output_type": "stream",
     "text": [
      "3\n"
     ]
    }
   ],
   "source": [
    "def count_vowels(string):\n",
    "    vowels = 'aeiouAEIOU'\n",
    "    count = 0\n",
    "    for char in string:\n",
    "        if char in vowels:\n",
    "            count += 1\n",
    "    return count\n",
    "\n",
    "print(count_vowels(\"Hello World\"))\n"
   ]
  },
  {
   "cell_type": "code",
   "execution_count": 3,
   "id": "8ca10817-3d27-44c0-b584-fb2ca4283dce",
   "metadata": {},
   "outputs": [
    {
     "name": "stdout",
     "output_type": "stream",
     "text": [
      "Grade B\n"
     ]
    }
   ],
   "source": [
    "def grading_system(marks):\n",
    "    if marks >= 90:\n",
    "        return \"Grade A\"\n",
    "    elif marks >= 75:\n",
    "        return \"Grade B\"\n",
    "    elif marks >= 60:\n",
    "        return \"Grade C\"\n",
    "    else:\n",
    "        return \"Grade F\"\n",
    "\n",
    "print(grading_system(85))\n"
   ]
  },
  {
   "cell_type": "code",
   "execution_count": 4,
   "id": "841e4691-e8c6-49ee-9d44-4d331df131cd",
   "metadata": {},
   "outputs": [
    {
     "name": "stdout",
     "output_type": "stream",
     "text": [
      "2 3 5 7 11 13 17 19 23 29 31 37 41 43 47 53 59 61 67 71 73 79 83 89 97 "
     ]
    }
   ],
   "source": [
    "def print_primes():\n",
    "    for num in range(2, 101):\n",
    "        is_prime = True\n",
    "        for i in range(2, int(num**0.5)+1):\n",
    "            if num % i == 0:\n",
    "                is_prime = False\n",
    "                break\n",
    "        if is_prime:\n",
    "            print(num, end=\" \")\n",
    "\n",
    "print_primes()\n"
   ]
  },
  {
   "cell_type": "code",
   "execution_count": 5,
   "id": "2c154d60-3cd7-4b6e-bb09-a0f68246e8a0",
   "metadata": {},
   "outputs": [
    {
     "name": "stdout",
     "output_type": "stream",
     "text": [
      "     1 \n",
      "    1 1 \n",
      "   1 2 1 \n",
      "  1 3 3 1 \n",
      " 1 4 6 4 1 \n"
     ]
    }
   ],
   "source": [
    "def pascals_triangle(n):\n",
    "    for i in range(n):\n",
    "        print(\" \" * (n - i), end=\"\")\n",
    "        num = 1\n",
    "        for j in range(i + 1):\n",
    "            print(num, end=\" \")\n",
    "            num = num * (i - j) // (j + 1)\n",
    "        print()\n",
    "\n",
    "pascals_triangle(5)\n"
   ]
  },
  {
   "cell_type": "code",
   "execution_count": 6,
   "id": "7b763550-7eeb-48c7-849c-1af03208c3e6",
   "metadata": {},
   "outputs": [
    {
     "name": "stdout",
     "output_type": "stream",
     "text": [
      "[[19, 22], [43, 50]]\n"
     ]
    }
   ],
   "source": [
    "def multiply_matrices(A, B):\n",
    "    n = len(A)\n",
    "    result = [[0]*n for _ in range(n)]\n",
    "    for i in range(n):\n",
    "        for j in range(n):\n",
    "            for k in range(n):\n",
    "                result[i][j] += A[i][k] * B[k][j]\n",
    "    return result\n",
    "\n",
    "A = [[1, 2], [3, 4]]\n",
    "B = [[5, 6], [7, 8]]\n",
    "print(multiply_matrices(A, B))\n"
   ]
  },
  {
   "cell_type": "code",
   "execution_count": 7,
   "id": "c377bf83-c5c6-4c5f-8237-6b255c27bc3b",
   "metadata": {},
   "outputs": [
    {
     "name": "stdout",
     "output_type": "stream",
     "text": [
      "5.0\n"
     ]
    }
   ],
   "source": [
    "import math\n",
    "\n",
    "def distance(x1, y1, x2, y2):\n",
    "    return math.sqrt((x2 - x1)**2 + (y2 - y1)**2)\n",
    "\n",
    "print(distance(1, 2, 4, 6))  # Example: from (1,2) to (4,6)\n"
   ]
  },
  {
   "cell_type": "code",
   "execution_count": 8,
   "id": "4c8661e4-42ef-4e9f-b3f4-6b920ba804ac",
   "metadata": {},
   "outputs": [
    {
     "name": "stdout",
     "output_type": "stream",
     "text": [
      "Special Character\n"
     ]
    }
   ],
   "source": [
    "def check_char_type(ch):\n",
    "    if ch.isdigit():\n",
    "        return \"Digit\"\n",
    "    elif 'a' <= ch <= 'z':\n",
    "        return \"Lowercase\"\n",
    "    elif 'A' <= ch <= 'Z':\n",
    "        return \"Uppercase\"\n",
    "    else:\n",
    "        return \"Special Character\"\n",
    "\n",
    "print(check_char_type('#'))\n"
   ]
  },
  {
   "cell_type": "code",
   "execution_count": 9,
   "id": "0005de9c-4717-4d06-84e1-759f10899d90",
   "metadata": {},
   "outputs": [
    {
     "name": "stdout",
     "output_type": "stream",
     "text": [
      "True\n"
     ]
    }
   ],
   "source": [
    "def has_duplicates(lst):\n",
    "    seen = set()\n",
    "    for item in lst:\n",
    "        if item in seen:\n",
    "            return True\n",
    "        seen.add(item)\n",
    "    return False\n",
    "\n",
    "print(has_duplicates([1, 2, 3, 4, 2]))  # True\n"
   ]
  },
  {
   "cell_type": "code",
   "execution_count": 10,
   "id": "499d091c-6031-414c-827f-9270c6a0cce8",
   "metadata": {},
   "outputs": [
    {
     "name": "stdout",
     "output_type": "stream",
     "text": [
      "[1, 4, 9, 16, 25]\n"
     ]
    }
   ],
   "source": [
    "numbers = [1, 2, 3, 4, 5]\n",
    "squared = [x**2 for x in numbers]\n",
    "print(squared)  # Output: [1, 4, 9, 16, 25]\n"
   ]
  },
  {
   "cell_type": "code",
   "execution_count": 11,
   "id": "808c8bd5-f68e-4df3-a5c2-9e93eb483d14",
   "metadata": {},
   "outputs": [
    {
     "name": "stdout",
     "output_type": "stream",
     "text": [
      "22\n"
     ]
    }
   ],
   "source": [
    "def find_max(lst):\n",
    "    if not lst:\n",
    "        return None\n",
    "    max_val = lst[0]\n",
    "    for num in lst:\n",
    "        if num > max_val:\n",
    "            max_val = num\n",
    "    return max_val\n",
    "\n",
    "print(find_max([10, 5, 22, 7]))\n"
   ]
  },
  {
   "cell_type": "code",
   "execution_count": 12,
   "id": "4d914649-f55e-4901-be61-8c0a31f7c1a1",
   "metadata": {},
   "outputs": [
    {
     "name": "stdout",
     "output_type": "stream",
     "text": [
      "[2, 4, 6]\n"
     ]
    }
   ],
   "source": [
    "def get_even_numbers(lst):\n",
    "    return [x for x in lst if x % 2 == 0]\n",
    "\n",
    "print(get_even_numbers([1, 2, 3, 4, 5, 6]))\n"
   ]
  },
  {
   "cell_type": "code",
   "execution_count": 13,
   "id": "21b9b8e4-0834-41c1-a364-4495bc4db353",
   "metadata": {},
   "outputs": [],
   "source": [
    "import statistics\n",
    "\n",
    "def stats_from_input():\n",
    "    nums = []\n",
    "    while True:\n",
    "        n = int(input(\"Enter a number (0 to stop): \"))\n",
    "        if n == 0:\n",
    "            break\n",
    "        nums.append(n)\n",
    "    \n",
    "    if nums:\n",
    "        print(\"Sum:\", sum(nums))\n",
    "        print(\"Average:\", sum(nums)/len(nums))\n",
    "        print(\"Max:\", max(nums))\n",
    "        print(\"Min:\", min(nums))\n",
    "        print(\"Standard Deviation:\", statistics.stdev(nums) if len(nums) > 1 else 0)\n",
    "    else:\n",
    "        print(\"No data entered.\")\n",
    "\n",
    "# Uncomment below to test:\n",
    "# stats_from_input()\n"
   ]
  },
  {
   "cell_type": "code",
   "execution_count": 14,
   "id": "d83adba1-2a34-4ba5-9a9d-e3e84cf1ccf2",
   "metadata": {},
   "outputs": [
    {
     "name": "stdout",
     "output_type": "stream",
     "text": [
      "True\n"
     ]
    }
   ],
   "source": [
    "def has_duplicates(lst):\n",
    "    seen = set()\n",
    "    for item in lst:\n",
    "        if item in seen:\n",
    "            return True\n",
    "        seen.add(item)\n",
    "    return False\n",
    "\n",
    "print(has_duplicates([1, 2, 3, 4, 4]))  # Output: True\n"
   ]
  },
  {
   "cell_type": "code",
   "execution_count": 15,
   "id": "99c74080-b51b-4c4b-a0fc-465ba3520449",
   "metadata": {},
   "outputs": [
    {
     "name": "stdout",
     "output_type": "stream",
     "text": [
      "[4, 16, 36]\n"
     ]
    }
   ],
   "source": [
    "numbers = [2, 4, 6]\n",
    "squares = [x * x for x in numbers]\n",
    "print(squares)  # Output: [4, 16, 36]\n"
   ]
  },
  {
   "cell_type": "code",
   "execution_count": 16,
   "id": "95d92a11-0950-4f8f-8533-b0b0f921eeae",
   "metadata": {},
   "outputs": [
    {
     "name": "stdout",
     "output_type": "stream",
     "text": [
      "Odd: [1, 3, 5]\n",
      "Even: [2, 4, 6]\n"
     ]
    }
   ],
   "source": [
    "def find_odd_even(lst):\n",
    "    odd = [x for x in lst if x % 2 != 0]\n",
    "    even = [x for x in lst if x % 2 == 0]\n",
    "    return odd, even\n",
    "\n",
    "odd, even = find_odd_even([1, 2, 3, 4, 5, 6])\n",
    "print(\"Odd:\", odd)\n",
    "print(\"Even:\", even)\n"
   ]
  },
  {
   "cell_type": "code",
   "execution_count": 17,
   "id": "bf8d0e27-63c5-40cc-9165-4260e67f6fcf",
   "metadata": {},
   "outputs": [
    {
     "name": "stdout",
     "output_type": "stream",
     "text": [
      "[10, 22, 40]\n"
     ]
    }
   ],
   "source": [
    "def even_list(lst):\n",
    "    return [x for x in lst if x % 2 == 0]\n",
    "\n",
    "print(even_list([10, 15, 22, 33, 40]))  # Output: [10, 22, 40]\n"
   ]
  },
  {
   "cell_type": "code",
   "execution_count": 18,
   "id": "227b5f90-b416-4f1c-b196-ec4bfd8395d2",
   "metadata": {},
   "outputs": [],
   "source": [
    "import statistics\n",
    "\n",
    "def get_stats():\n",
    "    numbers = []\n",
    "    while True:\n",
    "        n = int(input(\"Enter number (0 to stop): \"))\n",
    "        if n == 0:\n",
    "            break\n",
    "        numbers.append(n)\n",
    "\n",
    "    if numbers:\n",
    "        print(\"Sum:\", sum(numbers))\n",
    "        print(\"Avg:\", sum(numbers)/len(numbers))\n",
    "        print(\"Max:\", max(numbers))\n",
    "        print(\"Min:\", min(numbers))\n",
    "        print(\"Std Dev:\", statistics.stdev(numbers) if len(numbers) > 1 else 0)\n",
    "    else:\n",
    "        print(\"No data to calculate.\")\n",
    "\n",
    "# Uncomment to run:\n",
    "# get_stats()\n"
   ]
  },
  {
   "cell_type": "code",
   "execution_count": 19,
   "id": "14acea31-5246-496a-b840-d73c8ce16fb4",
   "metadata": {},
   "outputs": [
    {
     "name": "stdout",
     "output_type": "stream",
     "text": [
      "{'apple': 3, 'banana': 2, 'orange': 1}\n"
     ]
    }
   ],
   "source": [
    "def word_frequency(words):\n",
    "    freq = {}\n",
    "    for word in words:\n",
    "        freq[word] = freq.get(word, 0) + 1\n",
    "    return freq\n",
    "\n",
    "words = [\"apple\", \"banana\", \"apple\", \"orange\", \"banana\", \"apple\"]\n",
    "print(word_frequency(words))\n"
   ]
  },
  {
   "cell_type": "code",
   "execution_count": 20,
   "id": "e31efef2-6239-45a6-9263-6d57c1ff3b7e",
   "metadata": {},
   "outputs": [
    {
     "name": "stdout",
     "output_type": "stream",
     "text": [
      "John's science grade: 85\n"
     ]
    }
   ],
   "source": [
    "student = {\n",
    "    'name': 'John',\n",
    "    'grades': {\n",
    "        'math': 90,\n",
    "        'science': 85\n",
    "    }\n",
    "}\n",
    "\n",
    "print(\"John's science grade:\", student['grades']['science'])\n"
   ]
  },
  {
   "cell_type": "code",
   "execution_count": null,
   "id": "ec495dc2-d0cb-442c-9c3c-eb5f01a815cf",
   "metadata": {},
   "outputs": [],
   "source": []
  }
 ],
 "metadata": {
  "kernelspec": {
   "display_name": "Python [conda env:python]",
   "language": "python",
   "name": "conda-env-python-py"
  },
  "language_info": {
   "codemirror_mode": {
    "name": "ipython",
    "version": 3
   },
   "file_extension": ".py",
   "mimetype": "text/x-python",
   "name": "python",
   "nbconvert_exporter": "python",
   "pygments_lexer": "ipython3",
   "version": "3.12.7"
  }
 },
 "nbformat": 4,
 "nbformat_minor": 5
}
